{
 "cells": [
  {
   "cell_type": "code",
   "execution_count": 336,
   "metadata": {},
   "outputs": [],
   "source": [
    "import numpy as np\n",
    "import pandas as pd\n",
    "import seaborn as sns\n",
    "import matplotlib.pyplot as plt"
   ]
  },
  {
   "cell_type": "code",
   "execution_count": 337,
   "metadata": {},
   "outputs": [],
   "source": [
    "df=pd.read_csv('C:/Users/Hepton/Desktop/secion 12/housing2.csv - housing2.csv.csv',sep=',',encoding='utf-8')"
   ]
  },
  {
   "cell_type": "code",
   "execution_count": 338,
   "metadata": {},
   "outputs": [],
   "source": [
    "data=df"
   ]
  },
  {
   "cell_type": "code",
   "execution_count": 339,
   "metadata": {},
   "outputs": [
    {
     "name": "stdout",
     "output_type": "stream",
     "text": [
      "<class 'pandas.core.frame.DataFrame'>\n",
      "RangeIndex: 20640 entries, 0 to 20639\n",
      "Data columns (total 11 columns):\n",
      "longitude             20640 non-null float64\n",
      "latitude              20640 non-null float64\n",
      "housing_median_age    20382 non-null float64\n",
      "total_rooms           20640 non-null int64\n",
      "total_bedrooms        15758 non-null float64\n",
      "population            20596 non-null float64\n",
      "households            19335 non-null object\n",
      "median_income         17873 non-null float64\n",
      "median_house_value    20640 non-null int64\n",
      "ocean_proximity       20640 non-null object\n",
      "gender                16620 non-null object\n",
      "dtypes: float64(6), int64(2), object(3)\n",
      "memory usage: 1.7+ MB\n"
     ]
    }
   ],
   "source": [
    "data.info()"
   ]
  },
  {
   "cell_type": "code",
   "execution_count": 340,
   "metadata": {},
   "outputs": [
    {
     "data": {
      "text/html": [
       "<div>\n",
       "<style scoped>\n",
       "    .dataframe tbody tr th:only-of-type {\n",
       "        vertical-align: middle;\n",
       "    }\n",
       "\n",
       "    .dataframe tbody tr th {\n",
       "        vertical-align: top;\n",
       "    }\n",
       "\n",
       "    .dataframe thead th {\n",
       "        text-align: right;\n",
       "    }\n",
       "</style>\n",
       "<table border=\"1\" class=\"dataframe\">\n",
       "  <thead>\n",
       "    <tr style=\"text-align: right;\">\n",
       "      <th></th>\n",
       "      <th>longitude</th>\n",
       "      <th>latitude</th>\n",
       "      <th>housing_median_age</th>\n",
       "      <th>total_rooms</th>\n",
       "      <th>total_bedrooms</th>\n",
       "      <th>population</th>\n",
       "      <th>households</th>\n",
       "      <th>median_income</th>\n",
       "      <th>median_house_value</th>\n",
       "      <th>ocean_proximity</th>\n",
       "      <th>gender</th>\n",
       "    </tr>\n",
       "  </thead>\n",
       "  <tbody>\n",
       "    <tr>\n",
       "      <td>0</td>\n",
       "      <td>-122.23</td>\n",
       "      <td>37.88</td>\n",
       "      <td>41.0</td>\n",
       "      <td>880</td>\n",
       "      <td>129.0</td>\n",
       "      <td>322.0</td>\n",
       "      <td>126</td>\n",
       "      <td>8.3252</td>\n",
       "      <td>452600</td>\n",
       "      <td>NEAR BAY</td>\n",
       "      <td>male</td>\n",
       "    </tr>\n",
       "    <tr>\n",
       "      <td>1</td>\n",
       "      <td>-122.22</td>\n",
       "      <td>37.86</td>\n",
       "      <td>21.0</td>\n",
       "      <td>7099</td>\n",
       "      <td>1106.0</td>\n",
       "      <td>2401.0</td>\n",
       "      <td>1138</td>\n",
       "      <td>8.3014</td>\n",
       "      <td>358500</td>\n",
       "      <td>NEAR BAY</td>\n",
       "      <td>female</td>\n",
       "    </tr>\n",
       "    <tr>\n",
       "      <td>2</td>\n",
       "      <td>-122.24</td>\n",
       "      <td>37.85</td>\n",
       "      <td>52.0</td>\n",
       "      <td>1467</td>\n",
       "      <td>190.0</td>\n",
       "      <td>496.0</td>\n",
       "      <td>177</td>\n",
       "      <td>7.2574</td>\n",
       "      <td>352100</td>\n",
       "      <td>NEAR BAY</td>\n",
       "      <td>male</td>\n",
       "    </tr>\n",
       "    <tr>\n",
       "      <td>3</td>\n",
       "      <td>-122.25</td>\n",
       "      <td>37.85</td>\n",
       "      <td>52.0</td>\n",
       "      <td>1274</td>\n",
       "      <td>235.0</td>\n",
       "      <td>558.0</td>\n",
       "      <td>219</td>\n",
       "      <td>5.6431</td>\n",
       "      <td>341300</td>\n",
       "      <td>NEAR BAY</td>\n",
       "      <td>female</td>\n",
       "    </tr>\n",
       "    <tr>\n",
       "      <td>4</td>\n",
       "      <td>-122.25</td>\n",
       "      <td>37.85</td>\n",
       "      <td>NaN</td>\n",
       "      <td>1627</td>\n",
       "      <td>280.0</td>\n",
       "      <td>NaN</td>\n",
       "      <td>259</td>\n",
       "      <td>3.8462</td>\n",
       "      <td>342200</td>\n",
       "      <td>NEAR BAY</td>\n",
       "      <td>male</td>\n",
       "    </tr>\n",
       "    <tr>\n",
       "      <td>5</td>\n",
       "      <td>-122.25</td>\n",
       "      <td>37.85</td>\n",
       "      <td>NaN</td>\n",
       "      <td>919</td>\n",
       "      <td>213.0</td>\n",
       "      <td>NaN</td>\n",
       "      <td>193</td>\n",
       "      <td>4.0368</td>\n",
       "      <td>269700</td>\n",
       "      <td>NEAR BAY</td>\n",
       "      <td>female</td>\n",
       "    </tr>\n",
       "    <tr>\n",
       "      <td>6</td>\n",
       "      <td>-122.25</td>\n",
       "      <td>37.84</td>\n",
       "      <td>NaN</td>\n",
       "      <td>2535</td>\n",
       "      <td>NaN</td>\n",
       "      <td>NaN</td>\n",
       "      <td>514</td>\n",
       "      <td>3.6591</td>\n",
       "      <td>299200</td>\n",
       "      <td>NEAR BAY</td>\n",
       "      <td>male</td>\n",
       "    </tr>\n",
       "    <tr>\n",
       "      <td>7</td>\n",
       "      <td>-122.25</td>\n",
       "      <td>37.84</td>\n",
       "      <td>NaN</td>\n",
       "      <td>3104</td>\n",
       "      <td>NaN</td>\n",
       "      <td>NaN</td>\n",
       "      <td>NaN</td>\n",
       "      <td>3.1200</td>\n",
       "      <td>241400</td>\n",
       "      <td>NEAR BAY</td>\n",
       "      <td>female</td>\n",
       "    </tr>\n",
       "    <tr>\n",
       "      <td>8</td>\n",
       "      <td>-122.26</td>\n",
       "      <td>37.84</td>\n",
       "      <td>42.0</td>\n",
       "      <td>2555</td>\n",
       "      <td>NaN</td>\n",
       "      <td>NaN</td>\n",
       "      <td>NaN</td>\n",
       "      <td>2.0804</td>\n",
       "      <td>226700</td>\n",
       "      <td>NEAR BAY</td>\n",
       "      <td>male</td>\n",
       "    </tr>\n",
       "    <tr>\n",
       "      <td>9</td>\n",
       "      <td>-122.25</td>\n",
       "      <td>37.84</td>\n",
       "      <td>52.0</td>\n",
       "      <td>3549</td>\n",
       "      <td>NaN</td>\n",
       "      <td>NaN</td>\n",
       "      <td>NaN</td>\n",
       "      <td>3.6912</td>\n",
       "      <td>261100</td>\n",
       "      <td>NEAR BAY</td>\n",
       "      <td>female</td>\n",
       "    </tr>\n",
       "  </tbody>\n",
       "</table>\n",
       "</div>"
      ],
      "text/plain": [
       "   longitude  latitude  housing_median_age  total_rooms  total_bedrooms  \\\n",
       "0    -122.23     37.88                41.0          880           129.0   \n",
       "1    -122.22     37.86                21.0         7099          1106.0   \n",
       "2    -122.24     37.85                52.0         1467           190.0   \n",
       "3    -122.25     37.85                52.0         1274           235.0   \n",
       "4    -122.25     37.85                 NaN         1627           280.0   \n",
       "5    -122.25     37.85                 NaN          919           213.0   \n",
       "6    -122.25     37.84                 NaN         2535             NaN   \n",
       "7    -122.25     37.84                 NaN         3104             NaN   \n",
       "8    -122.26     37.84                42.0         2555             NaN   \n",
       "9    -122.25     37.84                52.0         3549             NaN   \n",
       "\n",
       "   population households  median_income  median_house_value ocean_proximity  \\\n",
       "0       322.0        126         8.3252              452600        NEAR BAY   \n",
       "1      2401.0       1138         8.3014              358500        NEAR BAY   \n",
       "2       496.0        177         7.2574              352100        NEAR BAY   \n",
       "3       558.0        219         5.6431              341300        NEAR BAY   \n",
       "4         NaN        259         3.8462              342200        NEAR BAY   \n",
       "5         NaN        193         4.0368              269700        NEAR BAY   \n",
       "6         NaN        514         3.6591              299200        NEAR BAY   \n",
       "7         NaN        NaN         3.1200              241400        NEAR BAY   \n",
       "8         NaN        NaN         2.0804              226700        NEAR BAY   \n",
       "9         NaN        NaN         3.6912              261100        NEAR BAY   \n",
       "\n",
       "   gender  \n",
       "0    male  \n",
       "1  female  \n",
       "2    male  \n",
       "3  female  \n",
       "4    male  \n",
       "5  female  \n",
       "6    male  \n",
       "7  female  \n",
       "8    male  \n",
       "9  female  "
      ]
     },
     "execution_count": 340,
     "metadata": {},
     "output_type": "execute_result"
    }
   ],
   "source": [
    "data.head(10)"
   ]
  },
  {
   "cell_type": "code",
   "execution_count": 341,
   "metadata": {},
   "outputs": [
    {
     "data": {
      "text/html": [
       "<div>\n",
       "<style scoped>\n",
       "    .dataframe tbody tr th:only-of-type {\n",
       "        vertical-align: middle;\n",
       "    }\n",
       "\n",
       "    .dataframe tbody tr th {\n",
       "        vertical-align: top;\n",
       "    }\n",
       "\n",
       "    .dataframe thead th {\n",
       "        text-align: right;\n",
       "    }\n",
       "</style>\n",
       "<table border=\"1\" class=\"dataframe\">\n",
       "  <thead>\n",
       "    <tr style=\"text-align: right;\">\n",
       "      <th></th>\n",
       "      <th>longitude</th>\n",
       "      <th>latitude</th>\n",
       "      <th>housing_median_age</th>\n",
       "      <th>total_rooms</th>\n",
       "      <th>total_bedrooms</th>\n",
       "      <th>population</th>\n",
       "      <th>median_income</th>\n",
       "      <th>median_house_value</th>\n",
       "    </tr>\n",
       "  </thead>\n",
       "  <tbody>\n",
       "    <tr>\n",
       "      <td>longitude</td>\n",
       "      <td>1.000000</td>\n",
       "      <td>-0.924664</td>\n",
       "      <td>-0.107447</td>\n",
       "      <td>0.044568</td>\n",
       "      <td>0.071610</td>\n",
       "      <td>0.100390</td>\n",
       "      <td>0.011440</td>\n",
       "      <td>-0.045967</td>\n",
       "    </tr>\n",
       "    <tr>\n",
       "      <td>latitude</td>\n",
       "      <td>-0.924664</td>\n",
       "      <td>1.000000</td>\n",
       "      <td>0.009773</td>\n",
       "      <td>-0.036100</td>\n",
       "      <td>-0.062301</td>\n",
       "      <td>-0.109222</td>\n",
       "      <td>-0.103496</td>\n",
       "      <td>-0.144160</td>\n",
       "    </tr>\n",
       "    <tr>\n",
       "      <td>housing_median_age</td>\n",
       "      <td>-0.107447</td>\n",
       "      <td>0.009773</td>\n",
       "      <td>1.000000</td>\n",
       "      <td>-0.360441</td>\n",
       "      <td>-0.336824</td>\n",
       "      <td>-0.294245</td>\n",
       "      <td>-0.117771</td>\n",
       "      <td>0.107378</td>\n",
       "    </tr>\n",
       "    <tr>\n",
       "      <td>total_rooms</td>\n",
       "      <td>0.044568</td>\n",
       "      <td>-0.036100</td>\n",
       "      <td>-0.360441</td>\n",
       "      <td>1.000000</td>\n",
       "      <td>0.926709</td>\n",
       "      <td>0.856914</td>\n",
       "      <td>0.220391</td>\n",
       "      <td>0.134153</td>\n",
       "    </tr>\n",
       "    <tr>\n",
       "      <td>total_bedrooms</td>\n",
       "      <td>0.071610</td>\n",
       "      <td>-0.062301</td>\n",
       "      <td>-0.336824</td>\n",
       "      <td>0.926709</td>\n",
       "      <td>1.000000</td>\n",
       "      <td>0.871130</td>\n",
       "      <td>-0.013803</td>\n",
       "      <td>0.050963</td>\n",
       "    </tr>\n",
       "    <tr>\n",
       "      <td>population</td>\n",
       "      <td>0.100390</td>\n",
       "      <td>-0.109222</td>\n",
       "      <td>-0.294245</td>\n",
       "      <td>0.856914</td>\n",
       "      <td>0.871130</td>\n",
       "      <td>1.000000</td>\n",
       "      <td>0.001852</td>\n",
       "      <td>-0.024385</td>\n",
       "    </tr>\n",
       "    <tr>\n",
       "      <td>median_income</td>\n",
       "      <td>0.011440</td>\n",
       "      <td>-0.103496</td>\n",
       "      <td>-0.117771</td>\n",
       "      <td>0.220391</td>\n",
       "      <td>-0.013803</td>\n",
       "      <td>0.001852</td>\n",
       "      <td>1.000000</td>\n",
       "      <td>0.688547</td>\n",
       "    </tr>\n",
       "    <tr>\n",
       "      <td>median_house_value</td>\n",
       "      <td>-0.045967</td>\n",
       "      <td>-0.144160</td>\n",
       "      <td>0.107378</td>\n",
       "      <td>0.134153</td>\n",
       "      <td>0.050963</td>\n",
       "      <td>-0.024385</td>\n",
       "      <td>0.688547</td>\n",
       "      <td>1.000000</td>\n",
       "    </tr>\n",
       "  </tbody>\n",
       "</table>\n",
       "</div>"
      ],
      "text/plain": [
       "                    longitude  latitude  housing_median_age  total_rooms  \\\n",
       "longitude            1.000000 -0.924664           -0.107447     0.044568   \n",
       "latitude            -0.924664  1.000000            0.009773    -0.036100   \n",
       "housing_median_age  -0.107447  0.009773            1.000000    -0.360441   \n",
       "total_rooms          0.044568 -0.036100           -0.360441     1.000000   \n",
       "total_bedrooms       0.071610 -0.062301           -0.336824     0.926709   \n",
       "population           0.100390 -0.109222           -0.294245     0.856914   \n",
       "median_income        0.011440 -0.103496           -0.117771     0.220391   \n",
       "median_house_value  -0.045967 -0.144160            0.107378     0.134153   \n",
       "\n",
       "                    total_bedrooms  population  median_income  \\\n",
       "longitude                 0.071610    0.100390       0.011440   \n",
       "latitude                 -0.062301   -0.109222      -0.103496   \n",
       "housing_median_age       -0.336824   -0.294245      -0.117771   \n",
       "total_rooms               0.926709    0.856914       0.220391   \n",
       "total_bedrooms            1.000000    0.871130      -0.013803   \n",
       "population                0.871130    1.000000       0.001852   \n",
       "median_income            -0.013803    0.001852       1.000000   \n",
       "median_house_value        0.050963   -0.024385       0.688547   \n",
       "\n",
       "                    median_house_value  \n",
       "longitude                    -0.045967  \n",
       "latitude                     -0.144160  \n",
       "housing_median_age            0.107378  \n",
       "total_rooms                   0.134153  \n",
       "total_bedrooms                0.050963  \n",
       "population                   -0.024385  \n",
       "median_income                 0.688547  \n",
       "median_house_value            1.000000  "
      ]
     },
     "execution_count": 341,
     "metadata": {},
     "output_type": "execute_result"
    }
   ],
   "source": [
    "data.corr()"
   ]
  },
  {
   "cell_type": "code",
   "execution_count": 342,
   "metadata": {},
   "outputs": [
    {
     "data": {
      "text/html": [
       "<div>\n",
       "<style scoped>\n",
       "    .dataframe tbody tr th:only-of-type {\n",
       "        vertical-align: middle;\n",
       "    }\n",
       "\n",
       "    .dataframe tbody tr th {\n",
       "        vertical-align: top;\n",
       "    }\n",
       "\n",
       "    .dataframe thead th {\n",
       "        text-align: right;\n",
       "    }\n",
       "</style>\n",
       "<table border=\"1\" class=\"dataframe\">\n",
       "  <thead>\n",
       "    <tr style=\"text-align: right;\">\n",
       "      <th></th>\n",
       "      <th>longitude</th>\n",
       "      <th>latitude</th>\n",
       "      <th>housing_median_age</th>\n",
       "      <th>total_rooms</th>\n",
       "      <th>total_bedrooms</th>\n",
       "      <th>population</th>\n",
       "      <th>median_income</th>\n",
       "      <th>median_house_value</th>\n",
       "    </tr>\n",
       "  </thead>\n",
       "  <tbody>\n",
       "    <tr>\n",
       "      <td>count</td>\n",
       "      <td>20640.000000</td>\n",
       "      <td>20640.000000</td>\n",
       "      <td>20382.000000</td>\n",
       "      <td>20640.000000</td>\n",
       "      <td>15758.000000</td>\n",
       "      <td>20596.000000</td>\n",
       "      <td>17873.000000</td>\n",
       "      <td>20640.000000</td>\n",
       "    </tr>\n",
       "    <tr>\n",
       "      <td>mean</td>\n",
       "      <td>-119.569704</td>\n",
       "      <td>35.631861</td>\n",
       "      <td>28.676283</td>\n",
       "      <td>2635.763081</td>\n",
       "      <td>539.920104</td>\n",
       "      <td>1424.928724</td>\n",
       "      <td>3.940685</td>\n",
       "      <td>206855.816909</td>\n",
       "    </tr>\n",
       "    <tr>\n",
       "      <td>std</td>\n",
       "      <td>2.003532</td>\n",
       "      <td>2.135952</td>\n",
       "      <td>12.589284</td>\n",
       "      <td>2181.615252</td>\n",
       "      <td>419.834171</td>\n",
       "      <td>1132.237768</td>\n",
       "      <td>1.943736</td>\n",
       "      <td>115395.615874</td>\n",
       "    </tr>\n",
       "    <tr>\n",
       "      <td>min</td>\n",
       "      <td>-124.350000</td>\n",
       "      <td>32.540000</td>\n",
       "      <td>1.000000</td>\n",
       "      <td>2.000000</td>\n",
       "      <td>1.000000</td>\n",
       "      <td>3.000000</td>\n",
       "      <td>0.499900</td>\n",
       "      <td>14999.000000</td>\n",
       "    </tr>\n",
       "    <tr>\n",
       "      <td>25%</td>\n",
       "      <td>-121.800000</td>\n",
       "      <td>33.930000</td>\n",
       "      <td>18.000000</td>\n",
       "      <td>1447.750000</td>\n",
       "      <td>296.000000</td>\n",
       "      <td>787.000000</td>\n",
       "      <td>2.598600</td>\n",
       "      <td>119600.000000</td>\n",
       "    </tr>\n",
       "    <tr>\n",
       "      <td>50%</td>\n",
       "      <td>-118.490000</td>\n",
       "      <td>34.260000</td>\n",
       "      <td>29.000000</td>\n",
       "      <td>2127.000000</td>\n",
       "      <td>435.000000</td>\n",
       "      <td>1166.000000</td>\n",
       "      <td>3.587100</td>\n",
       "      <td>179700.000000</td>\n",
       "    </tr>\n",
       "    <tr>\n",
       "      <td>75%</td>\n",
       "      <td>-118.010000</td>\n",
       "      <td>37.710000</td>\n",
       "      <td>37.000000</td>\n",
       "      <td>3148.000000</td>\n",
       "      <td>652.000000</td>\n",
       "      <td>1725.000000</td>\n",
       "      <td>4.830400</td>\n",
       "      <td>264725.000000</td>\n",
       "    </tr>\n",
       "    <tr>\n",
       "      <td>max</td>\n",
       "      <td>-114.310000</td>\n",
       "      <td>41.950000</td>\n",
       "      <td>52.000000</td>\n",
       "      <td>39320.000000</td>\n",
       "      <td>6210.000000</td>\n",
       "      <td>35682.000000</td>\n",
       "      <td>15.000100</td>\n",
       "      <td>500001.000000</td>\n",
       "    </tr>\n",
       "  </tbody>\n",
       "</table>\n",
       "</div>"
      ],
      "text/plain": [
       "          longitude      latitude  housing_median_age   total_rooms  \\\n",
       "count  20640.000000  20640.000000        20382.000000  20640.000000   \n",
       "mean    -119.569704     35.631861           28.676283   2635.763081   \n",
       "std        2.003532      2.135952           12.589284   2181.615252   \n",
       "min     -124.350000     32.540000            1.000000      2.000000   \n",
       "25%     -121.800000     33.930000           18.000000   1447.750000   \n",
       "50%     -118.490000     34.260000           29.000000   2127.000000   \n",
       "75%     -118.010000     37.710000           37.000000   3148.000000   \n",
       "max     -114.310000     41.950000           52.000000  39320.000000   \n",
       "\n",
       "       total_bedrooms    population  median_income  median_house_value  \n",
       "count    15758.000000  20596.000000   17873.000000        20640.000000  \n",
       "mean       539.920104   1424.928724       3.940685       206855.816909  \n",
       "std        419.834171   1132.237768       1.943736       115395.615874  \n",
       "min          1.000000      3.000000       0.499900        14999.000000  \n",
       "25%        296.000000    787.000000       2.598600       119600.000000  \n",
       "50%        435.000000   1166.000000       3.587100       179700.000000  \n",
       "75%        652.000000   1725.000000       4.830400       264725.000000  \n",
       "max       6210.000000  35682.000000      15.000100       500001.000000  "
      ]
     },
     "execution_count": 342,
     "metadata": {},
     "output_type": "execute_result"
    }
   ],
   "source": [
    "data.describe()"
   ]
  },
  {
   "cell_type": "code",
   "execution_count": 343,
   "metadata": {},
   "outputs": [
    {
     "data": {
      "text/plain": [
       "longitude                0\n",
       "latitude                 0\n",
       "housing_median_age     258\n",
       "total_rooms              0\n",
       "total_bedrooms        4882\n",
       "population              44\n",
       "households            1305\n",
       "median_income         2767\n",
       "median_house_value       0\n",
       "ocean_proximity          0\n",
       "gender                4020\n",
       "dtype: int64"
      ]
     },
     "execution_count": 343,
     "metadata": {},
     "output_type": "execute_result"
    }
   ],
   "source": [
    "data.isnull().sum()"
   ]
  },
  {
   "cell_type": "code",
   "execution_count": 344,
   "metadata": {},
   "outputs": [
    {
     "data": {
      "text/plain": [
       "<matplotlib.axes._subplots.AxesSubplot at 0x153f699ffc8>"
      ]
     },
     "execution_count": 344,
     "metadata": {},
     "output_type": "execute_result"
    },
    {
     "data": {
      "image/png": "[encoded data removed]",
      "text/plain": [
       "<Figure size 432x288 with 2 Axes>"
      ]
     },
     "metadata": {
      "needs_background": "light"
     },
     "output_type": "display_data"
    }
   ],
   "source": [
    "sns.heatmap(data.isnull(),cmap='viridis',cbar=True,yticklabels=False)"
   ]
  },
  {
   "cell_type": "markdown",
   "metadata": {},
   "source": [
    "# object"
   ]
  },
  {
   "cell_type": "code",
   "execution_count": 345,
   "metadata": {},
   "outputs": [
    {
     "data": {
      "text/plain": [
       "no      3080\n",
       "282       47\n",
       "375       46\n",
       "380       45\n",
       "306       45\n",
       "        ... \n",
       "1060       1\n",
       "1345       1\n",
       "1838       1\n",
       "1445       1\n",
       "2473       1\n",
       "Name: households, Length: 1703, dtype: int64"
      ]
     },
     "execution_count": 345,
     "metadata": {},
     "output_type": "execute_result"
    }
   ],
   "source": [
    "data['households'].value_counts()"
   ]
  },
  {
   "cell_type": "code",
   "execution_count": 346,
   "metadata": {},
   "outputs": [],
   "source": [
    "data['households']=data['households'].replace(\"no\" , np.nan)"
   ]
  },
  {
   "cell_type": "code",
   "execution_count": 347,
   "metadata": {},
   "outputs": [
    {
     "data": {
      "text/plain": [
       "282     47\n",
       "375     46\n",
       "306     45\n",
       "380     45\n",
       "239     42\n",
       "        ..\n",
       "1060     1\n",
       "1345     1\n",
       "1838     1\n",
       "1445     1\n",
       "2473     1\n",
       "Name: households, Length: 1702, dtype: int64"
      ]
     },
     "execution_count": 347,
     "metadata": {},
     "output_type": "execute_result"
    }
   ],
   "source": [
    "data['households'].value_counts()"
   ]
  },
  {
   "cell_type": "code",
   "execution_count": 348,
   "metadata": {},
   "outputs": [
    {
     "name": "stdout",
     "output_type": "stream",
     "text": [
      "<class 'pandas.core.frame.DataFrame'>\n",
      "RangeIndex: 20640 entries, 0 to 20639\n",
      "Data columns (total 11 columns):\n",
      "longitude             20640 non-null float64\n",
      "latitude              20640 non-null float64\n",
      "housing_median_age    20382 non-null float64\n",
      "total_rooms           20640 non-null int64\n",
      "total_bedrooms        15758 non-null float64\n",
      "population            20596 non-null float64\n",
      "households            16255 non-null object\n",
      "median_income         17873 non-null float64\n",
      "median_house_value    20640 non-null int64\n",
      "ocean_proximity       20640 non-null object\n",
      "gender                16620 non-null object\n",
      "dtypes: float64(6), int64(2), object(3)\n",
      "memory usage: 1.7+ MB\n"
     ]
    }
   ],
   "source": [
    "data.info()"
   ]
  },
  {
   "cell_type": "code",
   "execution_count": 349,
   "metadata": {},
   "outputs": [
    {
     "data": {
      "text/plain": [
       "282     47\n",
       "375     46\n",
       "306     45\n",
       "380     45\n",
       "239     42\n",
       "        ..\n",
       "1060     1\n",
       "1345     1\n",
       "1838     1\n",
       "1445     1\n",
       "2473     1\n",
       "Name: households, Length: 1702, dtype: int64"
      ]
     },
     "execution_count": 349,
     "metadata": {},
     "output_type": "execute_result"
    }
   ],
   "source": [
    "data['households'].value_counts()"
   ]
  },
  {
   "cell_type": "code",
   "execution_count": 350,
   "metadata": {},
   "outputs": [],
   "source": [
    "data['households']=pd.to_numeric(data['households'])"
   ]
  },
  {
   "cell_type": "code",
   "execution_count": 351,
   "metadata": {},
   "outputs": [
    {
     "name": "stdout",
     "output_type": "stream",
     "text": [
      "<class 'pandas.core.frame.DataFrame'>\n",
      "RangeIndex: 20640 entries, 0 to 20639\n",
      "Data columns (total 11 columns):\n",
      "longitude             20640 non-null float64\n",
      "latitude              20640 non-null float64\n",
      "housing_median_age    20382 non-null float64\n",
      "total_rooms           20640 non-null int64\n",
      "total_bedrooms        15758 non-null float64\n",
      "population            20596 non-null float64\n",
      "households            16255 non-null float64\n",
      "median_income         17873 non-null float64\n",
      "median_house_value    20640 non-null int64\n",
      "ocean_proximity       20640 non-null object\n",
      "gender                16620 non-null object\n",
      "dtypes: float64(7), int64(2), object(2)\n",
      "memory usage: 1.7+ MB\n"
     ]
    }
   ],
   "source": [
    "data.info()"
   ]
  },
  {
   "cell_type": "code",
   "execution_count": 352,
   "metadata": {},
   "outputs": [],
   "source": [
    "from sklearn.preprocessing import LabelEncoder"
   ]
  },
  {
   "cell_type": "code",
   "execution_count": 353,
   "metadata": {},
   "outputs": [],
   "source": [
    "data['ocean_proximity']=LabelEncoder().fit_transform(data['ocean_proximity'])"
   ]
  },
  {
   "cell_type": "code",
   "execution_count": 354,
   "metadata": {},
   "outputs": [
    {
     "data": {
      "text/plain": [
       "0    9136\n",
       "1    6551\n",
       "4    2658\n",
       "3    2290\n",
       "2       5\n",
       "Name: ocean_proximity, dtype: int64"
      ]
     },
     "execution_count": 354,
     "metadata": {},
     "output_type": "execute_result"
    }
   ],
   "source": [
    "data['ocean_proximity'].value_counts()"
   ]
  },
  {
   "cell_type": "code",
   "execution_count": 355,
   "metadata": {},
   "outputs": [
    {
     "data": {
      "text/plain": [
       "female    8673\n",
       "male      7947\n",
       "Name: gender, dtype: int64"
      ]
     },
     "execution_count": 355,
     "metadata": {},
     "output_type": "execute_result"
    }
   ],
   "source": [
    "data['gender'].value_counts()"
   ]
  },
  {
   "cell_type": "code",
   "execution_count": 356,
   "metadata": {},
   "outputs": [],
   "source": [
    "data.replace(\"male\",0,inplace=True)\n",
    "data.replace(\"female\",1,inplace=True)"
   ]
  },
  {
   "cell_type": "code",
   "execution_count": 357,
   "metadata": {},
   "outputs": [
    {
     "data": {
      "text/plain": [
       "1.0    8673\n",
       "0.0    7947\n",
       "Name: gender, dtype: int64"
      ]
     },
     "execution_count": 357,
     "metadata": {},
     "output_type": "execute_result"
    }
   ],
   "source": [
    "data['gender'].value_counts()"
   ]
  },
  {
   "cell_type": "code",
   "execution_count": 358,
   "metadata": {},
   "outputs": [
    {
     "name": "stdout",
     "output_type": "stream",
     "text": [
      "<class 'pandas.core.frame.DataFrame'>\n",
      "RangeIndex: 20640 entries, 0 to 20639\n",
      "Data columns (total 11 columns):\n",
      "longitude             20640 non-null float64\n",
      "latitude              20640 non-null float64\n",
      "housing_median_age    20382 non-null float64\n",
      "total_rooms           20640 non-null int64\n",
      "total_bedrooms        15758 non-null float64\n",
      "population            20596 non-null float64\n",
      "households            16255 non-null float64\n",
      "median_income         17873 non-null float64\n",
      "median_house_value    20640 non-null int64\n",
      "ocean_proximity       20640 non-null int64\n",
      "gender                16620 non-null float64\n",
      "dtypes: float64(8), int64(3)\n",
      "memory usage: 1.7 MB\n"
     ]
    }
   ],
   "source": [
    "data.info()"
   ]
  },
  {
   "cell_type": "code",
   "execution_count": 359,
   "metadata": {},
   "outputs": [
    {
     "data": {
      "text/plain": [
       "longitude                0\n",
       "latitude                 0\n",
       "housing_median_age     258\n",
       "total_rooms              0\n",
       "total_bedrooms        4882\n",
       "population              44\n",
       "households            4385\n",
       "median_income         2767\n",
       "median_house_value       0\n",
       "ocean_proximity          0\n",
       "gender                4020\n",
       "dtype: int64"
      ]
     },
     "execution_count": 359,
     "metadata": {},
     "output_type": "execute_result"
    }
   ],
   "source": [
    "data.isnull().sum()"
   ]
  },
  {
   "cell_type": "markdown",
   "metadata": {},
   "source": [
    "# null value"
   ]
  },
  {
   "cell_type": "code",
   "execution_count": 360,
   "metadata": {},
   "outputs": [
    {
     "data": {
      "text/plain": [
       "<matplotlib.axes._subplots.AxesSubplot at 0x153f51db8c8>"
      ]
     },
     "execution_count": 360,
     "metadata": {},
     "output_type": "execute_result"
    },
    {
     "data": {
      "image/png": "[encoded data removed]",
      "text/plain": [
       "<Figure size 432x288 with 2 Axes>"
      ]
     },
     "metadata": {
      "needs_background": "light"
     },
     "output_type": "display_data"
    }
   ],
   "source": [
    "sns.heatmap(data.isnull(),cmap='viridis',cbar=True,yticklabels=False)"
   ]
  },
  {
   "cell_type": "code",
   "execution_count": 361,
   "metadata": {},
   "outputs": [
    {
     "data": {
      "text/plain": [
       "52.0    1261\n",
       "36.0     856\n",
       "35.0     820\n",
       "16.0     764\n",
       "17.0     686\n",
       "34.0     683\n",
       "33.0     609\n",
       "26.0     604\n",
       "18.0     562\n",
       "25.0     558\n",
       "32.0     556\n",
       "37.0     532\n",
       "15.0     508\n",
       "19.0     497\n",
       "27.0     476\n",
       "24.0     471\n",
       "30.0     468\n",
       "28.0     465\n",
       "20.0     455\n",
       "29.0     455\n",
       "31.0     453\n",
       "21.0     441\n",
       "23.0     437\n",
       "14.0     412\n",
       "22.0     391\n",
       "38.0     389\n",
       "42.0     366\n",
       "39.0     365\n",
       "44.0     356\n",
       "43.0     349\n",
       "40.0     301\n",
       "13.0     297\n",
       "41.0     295\n",
       "45.0     291\n",
       "10.0     257\n",
       "11.0     246\n",
       "46.0     245\n",
       "5.0      239\n",
       "12.0     235\n",
       "9.0      204\n",
       "8.0      204\n",
       "47.0     195\n",
       "4.0      188\n",
       "48.0     176\n",
       "7.0      173\n",
       "6.0      153\n",
       "50.0     134\n",
       "49.0     133\n",
       "3.0       61\n",
       "2.0       58\n",
       "51.0      48\n",
       "1.0        4\n",
       "Name: housing_median_age, dtype: int64"
      ]
     },
     "execution_count": 361,
     "metadata": {},
     "output_type": "execute_result"
    }
   ],
   "source": [
    "data['housing_median_age'].value_counts()"
   ]
  },
  {
   "cell_type": "code",
   "execution_count": 362,
   "metadata": {},
   "outputs": [
    {
     "data": {
      "text/plain": [
       "count    20382.000000\n",
       "mean        28.676283\n",
       "std         12.589284\n",
       "min          1.000000\n",
       "25%         18.000000\n",
       "50%         29.000000\n",
       "75%         37.000000\n",
       "max         52.000000\n",
       "Name: housing_median_age, dtype: float64"
      ]
     },
     "execution_count": 362,
     "metadata": {},
     "output_type": "execute_result"
    }
   ],
   "source": [
    "data['housing_median_age'].describe()"
   ]
  },
  {
   "cell_type": "code",
   "execution_count": 363,
   "metadata": {},
   "outputs": [
    {
     "data": {
      "text/plain": [
       "258"
      ]
     },
     "execution_count": 363,
     "metadata": {},
     "output_type": "execute_result"
    }
   ],
   "source": [
    "data['housing_median_age'].isnull().sum()"
   ]
  },
  {
   "cell_type": "code",
   "execution_count": 364,
   "metadata": {},
   "outputs": [],
   "source": [
    "data['housing_median_age']=data['housing_median_age'].fillna(data['housing_median_age'].mean())"
   ]
  },
  {
   "cell_type": "code",
   "execution_count": 365,
   "metadata": {},
   "outputs": [
    {
     "data": {
      "text/plain": [
       "0"
      ]
     },
     "execution_count": 365,
     "metadata": {},
     "output_type": "execute_result"
    }
   ],
   "source": [
    "data['housing_median_age'].isnull().sum()"
   ]
  },
  {
   "cell_type": "code",
   "execution_count": 366,
   "metadata": {},
   "outputs": [
    {
     "name": "stdout",
     "output_type": "stream",
     "text": [
      "<class 'pandas.core.frame.DataFrame'>\n",
      "RangeIndex: 20640 entries, 0 to 20639\n",
      "Data columns (total 11 columns):\n",
      "longitude             20640 non-null float64\n",
      "latitude              20640 non-null float64\n",
      "housing_median_age    20640 non-null float64\n",
      "total_rooms           20640 non-null int64\n",
      "total_bedrooms        15758 non-null float64\n",
      "population            20596 non-null float64\n",
      "households            16255 non-null float64\n",
      "median_income         17873 non-null float64\n",
      "median_house_value    20640 non-null int64\n",
      "ocean_proximity       20640 non-null int64\n",
      "gender                16620 non-null float64\n",
      "dtypes: float64(8), int64(3)\n",
      "memory usage: 1.7 MB\n"
     ]
    }
   ],
   "source": [
    "data.info()"
   ]
  },
  {
   "cell_type": "code",
   "execution_count": 367,
   "metadata": {},
   "outputs": [
    {
     "data": {
      "text/plain": [
       "<matplotlib.axes._subplots.AxesSubplot at 0x153f69beac8>"
      ]
     },
     "execution_count": 367,
     "metadata": {},
     "output_type": "execute_result"
    },
    {
     "data": {
      "image/png": "[encoded data removed]",
      "text/plain": [
       "<Figure size 432x288 with 1 Axes>"
      ]
     },
     "metadata": {
      "needs_background": "light"
     },
     "output_type": "display_data"
    }
   ],
   "source": [
    "sns.distplot(data['housing_median_age'])"
   ]
  },
  {
   "cell_type": "code",
   "execution_count": 368,
   "metadata": {},
   "outputs": [
    {
     "data": {
      "text/plain": [
       "longitude                0\n",
       "latitude                 0\n",
       "housing_median_age       0\n",
       "total_rooms              0\n",
       "total_bedrooms        4882\n",
       "population              44\n",
       "households            4385\n",
       "median_income         2767\n",
       "median_house_value       0\n",
       "ocean_proximity          0\n",
       "gender                4020\n",
       "dtype: int64"
      ]
     },
     "execution_count": 368,
     "metadata": {},
     "output_type": "execute_result"
    }
   ],
   "source": [
    "data.isnull().sum()"
   ]
  },
  {
   "cell_type": "code",
   "execution_count": 369,
   "metadata": {},
   "outputs": [],
   "source": [
    "data=data.dropna(subset=['population'])"
   ]
  },
  {
   "cell_type": "code",
   "execution_count": 370,
   "metadata": {},
   "outputs": [
    {
     "name": "stdout",
     "output_type": "stream",
     "text": [
      "<class 'pandas.core.frame.DataFrame'>\n",
      "Int64Index: 20596 entries, 0 to 20639\n",
      "Data columns (total 11 columns):\n",
      "longitude             20596 non-null float64\n",
      "latitude              20596 non-null float64\n",
      "housing_median_age    20596 non-null float64\n",
      "total_rooms           20596 non-null int64\n",
      "total_bedrooms        15721 non-null float64\n",
      "population            20596 non-null float64\n",
      "households            16217 non-null float64\n",
      "median_income         17835 non-null float64\n",
      "median_house_value    20596 non-null int64\n",
      "ocean_proximity       20596 non-null int64\n",
      "gender                16589 non-null float64\n",
      "dtypes: float64(8), int64(3)\n",
      "memory usage: 1.9 MB\n"
     ]
    }
   ],
   "source": [
    "data.info()"
   ]
  },
  {
   "cell_type": "code",
   "execution_count": 371,
   "metadata": {},
   "outputs": [
    {
     "data": {
      "text/plain": [
       "longitude                0\n",
       "latitude                 0\n",
       "housing_median_age       0\n",
       "total_rooms              0\n",
       "total_bedrooms        4875\n",
       "population               0\n",
       "households            4379\n",
       "median_income         2761\n",
       "median_house_value       0\n",
       "ocean_proximity          0\n",
       "gender                4007\n",
       "dtype: int64"
      ]
     },
     "execution_count": 371,
     "metadata": {},
     "output_type": "execute_result"
    }
   ],
   "source": [
    "data.isnull().sum()"
   ]
  },
  {
   "cell_type": "code",
   "execution_count": 372,
   "metadata": {},
   "outputs": [
    {
     "data": {
      "text/html": [
       "<div>\n",
       "<style scoped>\n",
       "    .dataframe tbody tr th:only-of-type {\n",
       "        vertical-align: middle;\n",
       "    }\n",
       "\n",
       "    .dataframe tbody tr th {\n",
       "        vertical-align: top;\n",
       "    }\n",
       "\n",
       "    .dataframe thead th {\n",
       "        text-align: right;\n",
       "    }\n",
       "</style>\n",
       "<table border=\"1\" class=\"dataframe\">\n",
       "  <thead>\n",
       "    <tr style=\"text-align: right;\">\n",
       "      <th></th>\n",
       "      <th>longitude</th>\n",
       "      <th>latitude</th>\n",
       "      <th>housing_median_age</th>\n",
       "      <th>total_rooms</th>\n",
       "      <th>total_bedrooms</th>\n",
       "      <th>population</th>\n",
       "      <th>households</th>\n",
       "      <th>median_income</th>\n",
       "      <th>median_house_value</th>\n",
       "      <th>ocean_proximity</th>\n",
       "      <th>gender</th>\n",
       "    </tr>\n",
       "  </thead>\n",
       "  <tbody>\n",
       "    <tr>\n",
       "      <td>longitude</td>\n",
       "      <td>1.000000</td>\n",
       "      <td>-0.924590</td>\n",
       "      <td>-0.106784</td>\n",
       "      <td>0.045052</td>\n",
       "      <td>0.072237</td>\n",
       "      <td>0.100390</td>\n",
       "      <td>0.059591</td>\n",
       "      <td>0.011386</td>\n",
       "      <td>-0.045609</td>\n",
       "      <td>-0.288062</td>\n",
       "      <td>-0.076410</td>\n",
       "    </tr>\n",
       "    <tr>\n",
       "      <td>latitude</td>\n",
       "      <td>-0.924590</td>\n",
       "      <td>1.000000</td>\n",
       "      <td>0.009494</td>\n",
       "      <td>-0.036371</td>\n",
       "      <td>-0.062657</td>\n",
       "      <td>-0.109222</td>\n",
       "      <td>-0.065324</td>\n",
       "      <td>-0.103505</td>\n",
       "      <td>-0.144493</td>\n",
       "      <td>0.199387</td>\n",
       "      <td>0.068531</td>\n",
       "    </tr>\n",
       "    <tr>\n",
       "      <td>housing_median_age</td>\n",
       "      <td>-0.106784</td>\n",
       "      <td>0.009494</td>\n",
       "      <td>1.000000</td>\n",
       "      <td>-0.356438</td>\n",
       "      <td>-0.336387</td>\n",
       "      <td>-0.291493</td>\n",
       "      <td>-0.324895</td>\n",
       "      <td>-0.117132</td>\n",
       "      <td>0.105802</td>\n",
       "      <td>0.109856</td>\n",
       "      <td>0.048175</td>\n",
       "    </tr>\n",
       "    <tr>\n",
       "      <td>total_rooms</td>\n",
       "      <td>0.045052</td>\n",
       "      <td>-0.036371</td>\n",
       "      <td>-0.356438</td>\n",
       "      <td>1.000000</td>\n",
       "      <td>0.926598</td>\n",
       "      <td>0.856914</td>\n",
       "      <td>0.913839</td>\n",
       "      <td>0.220450</td>\n",
       "      <td>0.134531</td>\n",
       "      <td>-0.016495</td>\n",
       "      <td>-0.004716</td>\n",
       "    </tr>\n",
       "    <tr>\n",
       "      <td>total_bedrooms</td>\n",
       "      <td>0.072237</td>\n",
       "      <td>-0.062657</td>\n",
       "      <td>-0.336387</td>\n",
       "      <td>0.926598</td>\n",
       "      <td>1.000000</td>\n",
       "      <td>0.871130</td>\n",
       "      <td>0.978488</td>\n",
       "      <td>-0.014094</td>\n",
       "      <td>0.051176</td>\n",
       "      <td>-0.010907</td>\n",
       "      <td>-0.002249</td>\n",
       "    </tr>\n",
       "    <tr>\n",
       "      <td>population</td>\n",
       "      <td>0.100390</td>\n",
       "      <td>-0.109222</td>\n",
       "      <td>-0.291493</td>\n",
       "      <td>0.856914</td>\n",
       "      <td>0.871130</td>\n",
       "      <td>1.000000</td>\n",
       "      <td>0.903761</td>\n",
       "      <td>0.001852</td>\n",
       "      <td>-0.024385</td>\n",
       "      <td>-0.071333</td>\n",
       "      <td>-0.001358</td>\n",
       "    </tr>\n",
       "    <tr>\n",
       "      <td>households</td>\n",
       "      <td>0.059591</td>\n",
       "      <td>-0.065324</td>\n",
       "      <td>-0.324895</td>\n",
       "      <td>0.913839</td>\n",
       "      <td>0.978488</td>\n",
       "      <td>0.903761</td>\n",
       "      <td>1.000000</td>\n",
       "      <td>0.004470</td>\n",
       "      <td>0.066327</td>\n",
       "      <td>-0.016449</td>\n",
       "      <td>-0.004509</td>\n",
       "    </tr>\n",
       "    <tr>\n",
       "      <td>median_income</td>\n",
       "      <td>0.011386</td>\n",
       "      <td>-0.103505</td>\n",
       "      <td>-0.117132</td>\n",
       "      <td>0.220450</td>\n",
       "      <td>-0.014094</td>\n",
       "      <td>0.001852</td>\n",
       "      <td>0.004470</td>\n",
       "      <td>1.000000</td>\n",
       "      <td>0.689030</td>\n",
       "      <td>0.004361</td>\n",
       "      <td>-0.006753</td>\n",
       "    </tr>\n",
       "    <tr>\n",
       "      <td>median_house_value</td>\n",
       "      <td>-0.045609</td>\n",
       "      <td>-0.144493</td>\n",
       "      <td>0.105802</td>\n",
       "      <td>0.134531</td>\n",
       "      <td>0.051176</td>\n",
       "      <td>-0.024385</td>\n",
       "      <td>0.066327</td>\n",
       "      <td>0.689030</td>\n",
       "      <td>1.000000</td>\n",
       "      <td>0.082025</td>\n",
       "      <td>0.030827</td>\n",
       "    </tr>\n",
       "    <tr>\n",
       "      <td>ocean_proximity</td>\n",
       "      <td>-0.288062</td>\n",
       "      <td>0.199387</td>\n",
       "      <td>0.109856</td>\n",
       "      <td>-0.016495</td>\n",
       "      <td>-0.010907</td>\n",
       "      <td>-0.071333</td>\n",
       "      <td>-0.016449</td>\n",
       "      <td>0.004361</td>\n",
       "      <td>0.082025</td>\n",
       "      <td>1.000000</td>\n",
       "      <td>0.031310</td>\n",
       "    </tr>\n",
       "    <tr>\n",
       "      <td>gender</td>\n",
       "      <td>-0.076410</td>\n",
       "      <td>0.068531</td>\n",
       "      <td>0.048175</td>\n",
       "      <td>-0.004716</td>\n",
       "      <td>-0.002249</td>\n",
       "      <td>-0.001358</td>\n",
       "      <td>-0.004509</td>\n",
       "      <td>-0.006753</td>\n",
       "      <td>0.030827</td>\n",
       "      <td>0.031310</td>\n",
       "      <td>1.000000</td>\n",
       "    </tr>\n",
       "  </tbody>\n",
       "</table>\n",
       "</div>"
      ],
      "text/plain": [
       "                    longitude  latitude  housing_median_age  total_rooms  \\\n",
       "longitude            1.000000 -0.924590           -0.106784     0.045052   \n",
       "latitude            -0.924590  1.000000            0.009494    -0.036371   \n",
       "housing_median_age  -0.106784  0.009494            1.000000    -0.356438   \n",
       "total_rooms          0.045052 -0.036371           -0.356438     1.000000   \n",
       "total_bedrooms       0.072237 -0.062657           -0.336387     0.926598   \n",
       "population           0.100390 -0.109222           -0.291493     0.856914   \n",
       "households           0.059591 -0.065324           -0.324895     0.913839   \n",
       "median_income        0.011386 -0.103505           -0.117132     0.220450   \n",
       "median_house_value  -0.045609 -0.144493            0.105802     0.134531   \n",
       "ocean_proximity     -0.288062  0.199387            0.109856    -0.016495   \n",
       "gender              -0.076410  0.068531            0.048175    -0.004716   \n",
       "\n",
       "                    total_bedrooms  population  households  median_income  \\\n",
       "longitude                 0.072237    0.100390    0.059591       0.011386   \n",
       "latitude                 -0.062657   -0.109222   -0.065324      -0.103505   \n",
       "housing_median_age       -0.336387   -0.291493   -0.324895      -0.117132   \n",
       "total_rooms               0.926598    0.856914    0.913839       0.220450   \n",
       "total_bedrooms            1.000000    0.871130    0.978488      -0.014094   \n",
       "population                0.871130    1.000000    0.903761       0.001852   \n",
       "households                0.978488    0.903761    1.000000       0.004470   \n",
       "median_income            -0.014094    0.001852    0.004470       1.000000   \n",
       "median_house_value        0.051176   -0.024385    0.066327       0.689030   \n",
       "ocean_proximity          -0.010907   -0.071333   -0.016449       0.004361   \n",
       "gender                   -0.002249   -0.001358   -0.004509      -0.006753   \n",
       "\n",
       "                    median_house_value  ocean_proximity    gender  \n",
       "longitude                    -0.045609        -0.288062 -0.076410  \n",
       "latitude                     -0.144493         0.199387  0.068531  \n",
       "housing_median_age            0.105802         0.109856  0.048175  \n",
       "total_rooms                   0.134531        -0.016495 -0.004716  \n",
       "total_bedrooms                0.051176        -0.010907 -0.002249  \n",
       "population                   -0.024385        -0.071333 -0.001358  \n",
       "households                    0.066327        -0.016449 -0.004509  \n",
       "median_income                 0.689030         0.004361 -0.006753  \n",
       "median_house_value            1.000000         0.082025  0.030827  \n",
       "ocean_proximity               0.082025         1.000000  0.031310  \n",
       "gender                        0.030827         0.031310  1.000000  "
      ]
     },
     "execution_count": 372,
     "metadata": {},
     "output_type": "execute_result"
    }
   ],
   "source": [
    "data.corr()"
   ]
  },
  {
   "cell_type": "code",
   "execution_count": 373,
   "metadata": {},
   "outputs": [],
   "source": [
    "data=data.drop('gender',axis=1)"
   ]
  },
  {
   "cell_type": "code",
   "execution_count": 374,
   "metadata": {},
   "outputs": [
    {
     "name": "stdout",
     "output_type": "stream",
     "text": [
      "<class 'pandas.core.frame.DataFrame'>\n",
      "Int64Index: 20596 entries, 0 to 20639\n",
      "Data columns (total 10 columns):\n",
      "longitude             20596 non-null float64\n",
      "latitude              20596 non-null float64\n",
      "housing_median_age    20596 non-null float64\n",
      "total_rooms           20596 non-null int64\n",
      "total_bedrooms        15721 non-null float64\n",
      "population            20596 non-null float64\n",
      "households            16217 non-null float64\n",
      "median_income         17835 non-null float64\n",
      "median_house_value    20596 non-null int64\n",
      "ocean_proximity       20596 non-null int64\n",
      "dtypes: float64(7), int64(3)\n",
      "memory usage: 1.7 MB\n"
     ]
    }
   ],
   "source": [
    "data.info()"
   ]
  },
  {
   "cell_type": "code",
   "execution_count": 375,
   "metadata": {},
   "outputs": [
    {
     "data": {
      "text/plain": [
       "longitude                0\n",
       "latitude                 0\n",
       "housing_median_age       0\n",
       "total_rooms              0\n",
       "total_bedrooms        4875\n",
       "population               0\n",
       "households            4379\n",
       "median_income         2761\n",
       "median_house_value       0\n",
       "ocean_proximity          0\n",
       "dtype: int64"
      ]
     },
     "execution_count": 375,
     "metadata": {},
     "output_type": "execute_result"
    }
   ],
   "source": [
    "data.isnull().sum()"
   ]
  },
  {
   "cell_type": "code",
   "execution_count": 376,
   "metadata": {},
   "outputs": [
    {
     "data": {
      "text/plain": [
       "282.0     47\n",
       "375.0     46\n",
       "380.0     45\n",
       "306.0     45\n",
       "239.0     42\n",
       "          ..\n",
       "1651.0     1\n",
       "1596.0     1\n",
       "1127.0     1\n",
       "1694.0     1\n",
       "2769.0     1\n",
       "Name: households, Length: 1702, dtype: int64"
      ]
     },
     "execution_count": 376,
     "metadata": {},
     "output_type": "execute_result"
    }
   ],
   "source": [
    "data['households'].value_counts()"
   ]
  },
  {
   "cell_type": "code",
   "execution_count": 377,
   "metadata": {},
   "outputs": [
    {
     "data": {
      "text/plain": [
       "count    16217.000000\n",
       "mean       500.508417\n",
       "std        378.208953\n",
       "min          1.000000\n",
       "25%        280.000000\n",
       "50%        409.000000\n",
       "75%        607.000000\n",
       "max       5358.000000\n",
       "Name: households, dtype: float64"
      ]
     },
     "execution_count": 377,
     "metadata": {},
     "output_type": "execute_result"
    }
   ],
   "source": [
    "data['households'].describe()"
   ]
  },
  {
   "cell_type": "code",
   "execution_count": 378,
   "metadata": {},
   "outputs": [
    {
     "data": {
      "text/plain": [
       "array([ 126., 1138.,  177., ..., 1575., 2289., 1843.])"
      ]
     },
     "execution_count": 378,
     "metadata": {},
     "output_type": "execute_result"
    }
   ],
   "source": [
    "data['households'].unique()"
   ]
  },
  {
   "cell_type": "code",
   "execution_count": 379,
   "metadata": {},
   "outputs": [],
   "source": [
    "fill_list=data['households'].unique()\n",
    "data['households']=data['households'].fillna(pd.Series(np.random.choice(fill_list,size=len(data.index))))"
   ]
  },
  {
   "cell_type": "code",
   "execution_count": 380,
   "metadata": {},
   "outputs": [
    {
     "data": {
      "text/plain": [
       "longitude                0\n",
       "latitude                 0\n",
       "housing_median_age       0\n",
       "total_rooms              0\n",
       "total_bedrooms        4875\n",
       "population               0\n",
       "households              39\n",
       "median_income         2761\n",
       "median_house_value       0\n",
       "ocean_proximity          0\n",
       "dtype: int64"
      ]
     },
     "execution_count": 380,
     "metadata": {},
     "output_type": "execute_result"
    }
   ],
   "source": [
    "data.isnull().sum()"
   ]
  },
  {
   "cell_type": "code",
   "execution_count": 381,
   "metadata": {},
   "outputs": [
    {
     "data": {
      "text/plain": [
       "count    20557.000000\n",
       "mean       608.111008\n",
       "std        525.692266\n",
       "min          1.000000\n",
       "25%        291.000000\n",
       "50%        450.000000\n",
       "75%        736.000000\n",
       "max       5358.000000\n",
       "Name: households, dtype: float64"
      ]
     },
     "execution_count": 381,
     "metadata": {},
     "output_type": "execute_result"
    }
   ],
   "source": [
    "data['households'].describe()"
   ]
  },
  {
   "cell_type": "code",
   "execution_count": 382,
   "metadata": {},
   "outputs": [
    {
     "data": {
      "text/plain": [
       "<matplotlib.axes._subplots.AxesSubplot at 0x153f75fa708>"
      ]
     },
     "execution_count": 382,
     "metadata": {},
     "output_type": "execute_result"
    },
    {
     "data": {
      "image/png": "[encoded data removed]",
      "text/plain": [
       "<Figure size 432x288 with 2 Axes>"
      ]
     },
     "metadata": {
      "needs_background": "light"
     },
     "output_type": "display_data"
    }
   ],
   "source": [
    "sns.heatmap(data.isnull(),cmap='viridis',cbar=True,yticklabels=False)"
   ]
  },
  {
   "cell_type": "code",
   "execution_count": 383,
   "metadata": {},
   "outputs": [],
   "source": [
    "data=data.dropna(subset=['households'])"
   ]
  },
  {
   "cell_type": "code",
   "execution_count": 384,
   "metadata": {},
   "outputs": [
    {
     "name": "stdout",
     "output_type": "stream",
     "text": [
      "<class 'pandas.core.frame.DataFrame'>\n",
      "Int64Index: 20557 entries, 0 to 20639\n",
      "Data columns (total 10 columns):\n",
      "longitude             20557 non-null float64\n",
      "latitude              20557 non-null float64\n",
      "housing_median_age    20557 non-null float64\n",
      "total_rooms           20557 non-null int64\n",
      "total_bedrooms        15720 non-null float64\n",
      "population            20557 non-null float64\n",
      "households            20557 non-null float64\n",
      "median_income         17796 non-null float64\n",
      "median_house_value    20557 non-null int64\n",
      "ocean_proximity       20557 non-null int64\n",
      "dtypes: float64(7), int64(3)\n",
      "memory usage: 1.7 MB\n"
     ]
    }
   ],
   "source": [
    "data.info()"
   ]
  },
  {
   "cell_type": "code",
   "execution_count": 385,
   "metadata": {},
   "outputs": [
    {
     "data": {
      "text/plain": [
       "longitude                0\n",
       "latitude                 0\n",
       "housing_median_age       0\n",
       "total_rooms              0\n",
       "total_bedrooms        4837\n",
       "population               0\n",
       "households               0\n",
       "median_income         2761\n",
       "median_house_value       0\n",
       "ocean_proximity          0\n",
       "dtype: int64"
      ]
     },
     "execution_count": 385,
     "metadata": {},
     "output_type": "execute_result"
    }
   ],
   "source": [
    "data.isnull().sum()"
   ]
  },
  {
   "cell_type": "code",
   "execution_count": 386,
   "metadata": {},
   "outputs": [],
   "source": [
    "fill_list=data['total_bedrooms'].unique()\n",
    "data['total_bedrooms']=data['total_bedrooms'].fillna(pd.Series(np.random.choice(fill_list,size=len(data.index))))"
   ]
  },
  {
   "cell_type": "code",
   "execution_count": 387,
   "metadata": {},
   "outputs": [
    {
     "data": {
      "text/plain": [
       "longitude                0\n",
       "latitude                 0\n",
       "housing_median_age       0\n",
       "total_rooms              0\n",
       "total_bedrooms          40\n",
       "population               0\n",
       "households               0\n",
       "median_income         2761\n",
       "median_house_value       0\n",
       "ocean_proximity          0\n",
       "dtype: int64"
      ]
     },
     "execution_count": 387,
     "metadata": {},
     "output_type": "execute_result"
    }
   ],
   "source": [
    "data.isnull().sum()"
   ]
  },
  {
   "cell_type": "code",
   "execution_count": 388,
   "metadata": {},
   "outputs": [
    {
     "data": {
      "text/plain": [
       "<matplotlib.axes._subplots.AxesSubplot at 0x153f6c7dc48>"
      ]
     },
     "execution_count": 388,
     "metadata": {},
     "output_type": "execute_result"
    },
    {
     "data": {
      "image/png": "[encoded data removed]",
      "text/plain": [
       "<Figure size 432x288 with 2 Axes>"
      ]
     },
     "metadata": {
      "needs_background": "light"
     },
     "output_type": "display_data"
    }
   ],
   "source": [
    "sns.heatmap(data.isnull(),cmap='viridis',cbar=True,yticklabels=False)"
   ]
  },
  {
   "cell_type": "code",
   "execution_count": 389,
   "metadata": {},
   "outputs": [
    {
     "data": {
      "text/plain": [
       "345.0     47\n",
       "280.0     45\n",
       "348.0     44\n",
       "394.0     44\n",
       "388.0     44\n",
       "          ..\n",
       "1802.0     1\n",
       "2020.0     1\n",
       "1673.0     1\n",
       "1026.0     1\n",
       "1266.0     1\n",
       "Name: total_bedrooms, Length: 1820, dtype: int64"
      ]
     },
     "execution_count": 389,
     "metadata": {},
     "output_type": "execute_result"
    }
   ],
   "source": [
    "data['total_bedrooms'].value_counts()"
   ]
  },
  {
   "cell_type": "code",
   "execution_count": 390,
   "metadata": {},
   "outputs": [
    {
     "data": {
      "text/plain": [
       "count    20517.000000\n",
       "mean       663.832285\n",
       "std        584.940491\n",
       "min          1.000000\n",
       "25%        311.000000\n",
       "50%        485.000000\n",
       "75%        811.000000\n",
       "max       6210.000000\n",
       "Name: total_bedrooms, dtype: float64"
      ]
     },
     "execution_count": 390,
     "metadata": {},
     "output_type": "execute_result"
    }
   ],
   "source": [
    "data['total_bedrooms'].describe()"
   ]
  },
  {
   "cell_type": "code",
   "execution_count": 391,
   "metadata": {},
   "outputs": [],
   "source": [
    "data=data.dropna(subset=['total_bedrooms'])"
   ]
  },
  {
   "cell_type": "code",
   "execution_count": 392,
   "metadata": {},
   "outputs": [
    {
     "name": "stdout",
     "output_type": "stream",
     "text": [
      "<class 'pandas.core.frame.DataFrame'>\n",
      "Int64Index: 20517 entries, 0 to 20639\n",
      "Data columns (total 10 columns):\n",
      "longitude             20517 non-null float64\n",
      "latitude              20517 non-null float64\n",
      "housing_median_age    20517 non-null float64\n",
      "total_rooms           20517 non-null int64\n",
      "total_bedrooms        20517 non-null float64\n",
      "population            20517 non-null float64\n",
      "households            20517 non-null float64\n",
      "median_income         17756 non-null float64\n",
      "median_house_value    20517 non-null int64\n",
      "ocean_proximity       20517 non-null int64\n",
      "dtypes: float64(7), int64(3)\n",
      "memory usage: 1.7 MB\n"
     ]
    }
   ],
   "source": [
    "data.info()"
   ]
  },
  {
   "cell_type": "code",
   "execution_count": 393,
   "metadata": {},
   "outputs": [
    {
     "data": {
      "text/plain": [
       "longitude                0\n",
       "latitude                 0\n",
       "housing_median_age       0\n",
       "total_rooms              0\n",
       "total_bedrooms           0\n",
       "population               0\n",
       "households               0\n",
       "median_income         2761\n",
       "median_house_value       0\n",
       "ocean_proximity          0\n",
       "dtype: int64"
      ]
     },
     "execution_count": 393,
     "metadata": {},
     "output_type": "execute_result"
    }
   ],
   "source": [
    "data.isnull().sum()"
   ]
  },
  {
   "cell_type": "code",
   "execution_count": 394,
   "metadata": {},
   "outputs": [],
   "source": [
    "fill_list=data['median_income'].unique()\n",
    "data['median_income']=data['median_income'].fillna(pd.Series(np.random.choice(fill_list,size=len(data.index))))"
   ]
  },
  {
   "cell_type": "code",
   "execution_count": 395,
   "metadata": {},
   "outputs": [
    {
     "data": {
      "text/plain": [
       "longitude             0\n",
       "latitude              0\n",
       "housing_median_age    0\n",
       "total_rooms           0\n",
       "total_bedrooms        0\n",
       "population            0\n",
       "households            0\n",
       "median_income         0\n",
       "median_house_value    0\n",
       "ocean_proximity       0\n",
       "dtype: int64"
      ]
     },
     "execution_count": 395,
     "metadata": {},
     "output_type": "execute_result"
    }
   ],
   "source": [
    "data.isnull().sum()"
   ]
  },
  {
   "cell_type": "code",
   "execution_count": 396,
   "metadata": {},
   "outputs": [],
   "source": [
    "data=data.dropna(subset=['median_income'])"
   ]
  },
  {
   "cell_type": "code",
   "execution_count": 397,
   "metadata": {},
   "outputs": [
    {
     "data": {
      "text/plain": [
       "longitude             0\n",
       "latitude              0\n",
       "housing_median_age    0\n",
       "total_rooms           0\n",
       "total_bedrooms        0\n",
       "population            0\n",
       "households            0\n",
       "median_income         0\n",
       "median_house_value    0\n",
       "ocean_proximity       0\n",
       "dtype: int64"
      ]
     },
     "execution_count": 397,
     "metadata": {},
     "output_type": "execute_result"
    }
   ],
   "source": [
    "data.isnull().sum()"
   ]
  },
  {
   "cell_type": "code",
   "execution_count": 398,
   "metadata": {},
   "outputs": [
    {
     "name": "stdout",
     "output_type": "stream",
     "text": [
      "<class 'pandas.core.frame.DataFrame'>\n",
      "Int64Index: 20517 entries, 0 to 20639\n",
      "Data columns (total 10 columns):\n",
      "longitude             20517 non-null float64\n",
      "latitude              20517 non-null float64\n",
      "housing_median_age    20517 non-null float64\n",
      "total_rooms           20517 non-null int64\n",
      "total_bedrooms        20517 non-null float64\n",
      "population            20517 non-null float64\n",
      "households            20517 non-null float64\n",
      "median_income         20517 non-null float64\n",
      "median_house_value    20517 non-null int64\n",
      "ocean_proximity       20517 non-null int64\n",
      "dtypes: float64(7), int64(3)\n",
      "memory usage: 1.7 MB\n"
     ]
    }
   ],
   "source": [
    "data.info()"
   ]
  },
  {
   "cell_type": "markdown",
   "metadata": {},
   "source": [
    "# outlier"
   ]
  },
  {
   "cell_type": "code",
   "execution_count": 399,
   "metadata": {},
   "outputs": [
    {
     "data": {
      "text/plain": [
       "<matplotlib.axes._subplots.AxesSubplot at 0x153f6d2fac8>"
      ]
     },
     "execution_count": 399,
     "metadata": {},
     "output_type": "execute_result"
    },
    {
     "data": {
      "image/png": "[encoded data removed]",
      "text/plain": [
       "<Figure size 720x720 with 1 Axes>"
      ]
     },
     "metadata": {
      "needs_background": "light"
     },
     "output_type": "display_data"
    }
   ],
   "source": [
    "plt.figure(figsize=(10,10))\n",
    "sns.boxplot(data=data)"
   ]
  },
  {
   "cell_type": "code",
   "execution_count": 400,
   "metadata": {},
   "outputs": [
    {
     "data": {
      "image/png": "[encoded data removed]",
      "text/plain": [
       "<Figure size 1296x1080 with 12 Axes>"
      ]
     },
     "metadata": {
      "needs_background": "light"
     },
     "output_type": "display_data"
    }
   ],
   "source": [
    "data.plot(kind='box', subplots=True,figsize=(18,15),layout=(4,3), sharex=False, sharey=False)\n",
    "plt.show()"
   ]
  },
  {
   "cell_type": "code",
   "execution_count": 401,
   "metadata": {},
   "outputs": [
    {
     "data": {
      "text/plain": [
       "<matplotlib.collections.PathCollection at 0x153f5221e48>"
      ]
     },
     "execution_count": 401,
     "metadata": {},
     "output_type": "execute_result"
    },
    {
     "data": {
      "image/png": "[encoded data removed]",
      "text/plain": [
       "<Figure size 432x288 with 1 Axes>"
      ]
     },
     "metadata": {
      "needs_background": "light"
     },
     "output_type": "display_data"
    }
   ],
   "source": [
    "plt.scatter(data['total_rooms'], data['median_house_value'], color = 'blue')"
   ]
  },
  {
   "cell_type": "code",
   "execution_count": 402,
   "metadata": {},
   "outputs": [
    {
     "data": {
      "text/plain": [
       "<matplotlib.collections.PathCollection at 0x153f5283688>"
      ]
     },
     "execution_count": 402,
     "metadata": {},
     "output_type": "execute_result"
    },
    {
     "data": {
      "image/png": "[encoded data removed]",
      "text/plain": [
       "<Figure size 432x288 with 1 Axes>"
      ]
     },
     "metadata": {
      "needs_background": "light"
     },
     "output_type": "display_data"
    }
   ],
   "source": [
    "plt.scatter(df2['population'], df2['median_house_value'], color = 'blue')"
   ]
  },
  {
   "cell_type": "code",
   "execution_count": 403,
   "metadata": {},
   "outputs": [
    {
     "data": {
      "text/plain": [
       "<matplotlib.collections.PathCollection at 0x153f52ea288>"
      ]
     },
     "execution_count": 403,
     "metadata": {},
     "output_type": "execute_result"
    },
    {
     "data": {
      "image/png": "[encoded data removed]",
      "text/plain": [
       "<Figure size 432x288 with 1 Axes>"
      ]
     },
     "metadata": {
      "needs_background": "light"
     },
     "output_type": "display_data"
    }
   ],
   "source": [
    "plt.scatter(data['total_bedrooms'], data['median_house_value'], color = 'blue')"
   ]
  },
  {
   "cell_type": "code",
   "execution_count": 404,
   "metadata": {},
   "outputs": [
    {
     "data": {
      "text/plain": [
       "<matplotlib.collections.PathCollection at 0x153f743db88>"
      ]
     },
     "execution_count": 404,
     "metadata": {},
     "output_type": "execute_result"
    },
    {
     "data": {
      "image/png": "[encoded data removed]",
      "text/plain": [
       "<Figure size 432x288 with 1 Axes>"
      ]
     },
     "metadata": {
      "needs_background": "light"
     },
     "output_type": "display_data"
    }
   ],
   "source": [
    "plt.scatter(data['households'], data['median_house_value'], color = 'blue')"
   ]
  },
  {
   "cell_type": "code",
   "execution_count": 405,
   "metadata": {},
   "outputs": [
    {
     "data": {
      "text/plain": [
       "<matplotlib.collections.PathCollection at 0x153f74a1d08>"
      ]
     },
     "execution_count": 405,
     "metadata": {},
     "output_type": "execute_result"
    },
    {
     "data": {
      "image/png": "[encoded data removed]",
      "text/plain": [
       "<Figure size 432x288 with 1 Axes>"
      ]
     },
     "metadata": {
      "needs_background": "light"
     },
     "output_type": "display_data"
    }
   ],
   "source": [
    "plt.scatter(data['median_income'], data['median_house_value'], color = 'blue')"
   ]
  },
  {
   "cell_type": "code",
   "execution_count": 406,
   "metadata": {},
   "outputs": [
    {
     "data": {
      "text/plain": [
       "<matplotlib.collections.PathCollection at 0x153f750e648>"
      ]
     },
     "execution_count": 406,
     "metadata": {},
     "output_type": "execute_result"
    },
    {
     "data": {
      "image/png": "[encoded data removed]",
      "text/plain": [
       "<Figure size 432x288 with 1 Axes>"
      ]
     },
     "metadata": {
      "needs_background": "light"
     },
     "output_type": "display_data"
    }
   ],
   "source": [
    "plt.scatter(data['ocean_proximity'], data['median_house_value'], color = 'blue')"
   ]
  },
  {
   "cell_type": "code",
   "execution_count": 407,
   "metadata": {},
   "outputs": [
    {
     "name": "stdout",
     "output_type": "stream",
     "text": [
      "outliers: 16\n"
     ]
    }
   ],
   "source": [
    "print(\"outliers:\", data[  (data['population']>11000) ] ['population'].count())"
   ]
  },
  {
   "cell_type": "code",
   "execution_count": 408,
   "metadata": {},
   "outputs": [],
   "source": [
    "data= data[data['population'] <=11000 ] "
   ]
  },
  {
   "cell_type": "code",
   "execution_count": 409,
   "metadata": {},
   "outputs": [
    {
     "name": "stdout",
     "output_type": "stream",
     "text": [
      "<class 'pandas.core.frame.DataFrame'>\n",
      "Int64Index: 20501 entries, 0 to 20639\n",
      "Data columns (total 10 columns):\n",
      "longitude             20501 non-null float64\n",
      "latitude              20501 non-null float64\n",
      "housing_median_age    20501 non-null float64\n",
      "total_rooms           20501 non-null int64\n",
      "total_bedrooms        20501 non-null float64\n",
      "population            20501 non-null float64\n",
      "households            20501 non-null float64\n",
      "median_income         20501 non-null float64\n",
      "median_house_value    20501 non-null int64\n",
      "ocean_proximity       20501 non-null int64\n",
      "dtypes: float64(7), int64(3)\n",
      "memory usage: 1.7 MB\n"
     ]
    }
   ],
   "source": [
    "data.info()"
   ]
  },
  {
   "cell_type": "code",
   "execution_count": 410,
   "metadata": {},
   "outputs": [
    {
     "data": {
      "text/plain": [
       "<matplotlib.collections.PathCollection at 0x153f757dec8>"
      ]
     },
     "execution_count": 410,
     "metadata": {},
     "output_type": "execute_result"
    },
    {
     "data": {
      "image/png": "[encoded data removed]",
      "text/plain": [
       "<Figure size 432x288 with 1 Axes>"
      ]
     },
     "metadata": {
      "needs_background": "light"
     },
     "output_type": "display_data"
    }
   ],
   "source": [
    "plt.scatter(data['population'], data['median_house_value'], color = 'blue')"
   ]
  },
  {
   "cell_type": "code",
   "execution_count": 411,
   "metadata": {},
   "outputs": [
    {
     "name": "stdout",
     "output_type": "stream",
     "text": [
      "outliers: 31\n"
     ]
    }
   ],
   "source": [
    "print(\"outliers:\", data[  (data['households']>3800) ] ['households'].count())"
   ]
  },
  {
   "cell_type": "code",
   "execution_count": 413,
   "metadata": {},
   "outputs": [],
   "source": [
    "data= data[data['households'] <=3800 ] "
   ]
  },
  {
   "cell_type": "code",
   "execution_count": 414,
   "metadata": {},
   "outputs": [
    {
     "data": {
      "text/plain": [
       "<matplotlib.collections.PathCollection at 0x153f75da5c8>"
      ]
     },
     "execution_count": 414,
     "metadata": {},
     "output_type": "execute_result"
    },
    {
     "data": {
      "image/png": "[encoded data removed]",
      "text/plain": [
       "<Figure size 432x288 with 1 Axes>"
      ]
     },
     "metadata": {
      "needs_background": "light"
     },
     "output_type": "display_data"
    }
   ],
   "source": [
    "plt.scatter(data['households'], data['median_house_value'], color = 'blue')"
   ]
  },
  {
   "cell_type": "code",
   "execution_count": 415,
   "metadata": {},
   "outputs": [
    {
     "name": "stdout",
     "output_type": "stream",
     "text": [
      "outliers: 22\n"
     ]
    }
   ],
   "source": [
    "print(\"outliers:\", data[  (data['total_bedrooms']>4800) ] ['total_bedrooms'].count())"
   ]
  },
  {
   "cell_type": "code",
   "execution_count": 416,
   "metadata": {},
   "outputs": [],
   "source": [
    "data= data[data['total_bedrooms'] <=4800 ] "
   ]
  },
  {
   "cell_type": "code",
   "execution_count": 417,
   "metadata": {},
   "outputs": [
    {
     "data": {
      "text/plain": [
       "<matplotlib.collections.PathCollection at 0x153f9cdda48>"
      ]
     },
     "execution_count": 417,
     "metadata": {},
     "output_type": "execute_result"
    },
    {
     "data": {
      "image/png": "[encoded data removed]",
      "text/plain": [
       "<Figure size 432x288 with 1 Axes>"
      ]
     },
     "metadata": {
      "needs_background": "light"
     },
     "output_type": "display_data"
    }
   ],
   "source": [
    "plt.scatter(data['total_bedrooms'], data['median_house_value'], color = 'blue')"
   ]
  },
  {
   "cell_type": "code",
   "execution_count": 418,
   "metadata": {},
   "outputs": [
    {
     "data": {
      "image/png": "[encoded data removed]",
      "text/plain": [
       "<Figure size 1296x1080 with 12 Axes>"
      ]
     },
     "metadata": {
      "needs_background": "light"
     },
     "output_type": "display_data"
    }
   ],
   "source": [
    "data.plot(kind='box', subplots=True,figsize=(18,15),layout=(4,3), sharex=False, sharey=False)\n",
    "plt.show()"
   ]
  },
  {
   "cell_type": "code",
   "execution_count": 425,
   "metadata": {},
   "outputs": [
    {
     "name": "stdout",
     "output_type": "stream",
     "text": [
      "outliers: 8\n"
     ]
    }
   ],
   "source": [
    "print(\"outliers:\", data[  (data['total_rooms']>11000) ] ['total_rooms'].count())"
   ]
  },
  {
   "cell_type": "code",
   "execution_count": 426,
   "metadata": {},
   "outputs": [],
   "source": [
    "data= data[data['total_rooms'] <=11000 ] "
   ]
  },
  {
   "cell_type": "code",
   "execution_count": 427,
   "metadata": {},
   "outputs": [
    {
     "data": {
      "text/plain": [
       "<matplotlib.collections.PathCollection at 0x153ff7f7e48>"
      ]
     },
     "execution_count": 427,
     "metadata": {},
     "output_type": "execute_result"
    },
    {
     "data": {
      "image/png": "[encoded data removed]",
      "text/plain": [
       "<Figure size 432x288 with 1 Axes>"
      ]
     },
     "metadata": {
      "needs_background": "light"
     },
     "output_type": "display_data"
    }
   ],
   "source": [
    "plt.scatter(data['total_rooms'], data['median_house_value'], color = 'blue')"
   ]
  },
  {
   "cell_type": "code",
   "execution_count": 428,
   "metadata": {},
   "outputs": [
    {
     "name": "stdout",
     "output_type": "stream",
     "text": [
      "<class 'pandas.core.frame.DataFrame'>\n",
      "Int64Index: 19778 entries, 0 to 20639\n",
      "Data columns (total 10 columns):\n",
      "longitude             19778 non-null float64\n",
      "latitude              19778 non-null float64\n",
      "housing_median_age    19778 non-null float64\n",
      "total_rooms           19778 non-null int64\n",
      "total_bedrooms        19778 non-null float64\n",
      "population            19778 non-null float64\n",
      "households            19778 non-null float64\n",
      "median_income         19778 non-null float64\n",
      "median_house_value    19778 non-null int64\n",
      "ocean_proximity       19778 non-null int64\n",
      "dtypes: float64(7), int64(3)\n",
      "memory usage: 1.7 MB\n"
     ]
    }
   ],
   "source": [
    "data.info()"
   ]
  },
  {
   "cell_type": "code",
   "execution_count": 429,
   "metadata": {},
   "outputs": [
    {
     "data": {
      "image/png": "[encoded data removed]",
      "text/plain": [
       "<Figure size 1296x1080 with 12 Axes>"
      ]
     },
     "metadata": {
      "needs_background": "light"
     },
     "output_type": "display_data"
    }
   ],
   "source": [
    "data.plot(kind='box', subplots=True,figsize=(18,15),layout=(4,3), sharex=False, sharey=False)\n",
    "plt.show()"
   ]
  },
  {
   "cell_type": "code",
   "execution_count": null,
   "metadata": {},
   "outputs": [],
   "source": []
  }
 ],
 "metadata": {
  "kernelspec": {
   "display_name": "Python 3",
   "language": "python",
   "name": "python3"
  },
  "language_info": {
   "codemirror_mode": {
    "name": "ipython",
    "version": 3
   },
   "file_extension": ".py",
   "mimetype": "text/x-python",
   "name": "python",
   "nbconvert_exporter": "python",
   "pygments_lexer": "ipython3",
   "version": "3.7.4"
  }
 },
 "nbformat": 4,
 "nbformat_minor": 2
}
